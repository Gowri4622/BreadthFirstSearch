{
 "cells": [
  {
   "cell_type": "code",
   "execution_count": 3,
   "metadata": {},
   "outputs": [],
   "source": [
    "%matplotlib inline\n",
    "import matplotlib.pyplot as plt\n",
    "import random\n",
    "import math\n",
    "import sys\n",
    "from collections import defaultdict, deque, Counter\n",
    "from itertools import combinations"
   ]
  },
  {
   "cell_type": "code",
   "execution_count": 4,
   "metadata": {},
   "outputs": [],
   "source": [
    "# Prepared by \n",
    "# C. Obed Otto, \n",
    "# Department of Artificial Intelligence and Datascience,\n",
    "# Saveetha Engineering College. 602105. India."
   ]
  },
  {
   "cell_type": "markdown",
   "metadata": {},
   "source": [
    "# Experiment done by\n",
    "# Student name Gowri M - 212220230019"
   ]
  },
  {
   "cell_type": "markdown",
   "metadata": {},
   "source": [
    "# Problems"
   ]
  },
  {
   "cell_type": "markdown",
   "metadata": {},
   "source": [
    "#### This is the abstract class. Specific problem domains will subclass this."
   ]
  },
  {
   "cell_type": "code",
   "execution_count": 6,
   "metadata": {},
   "outputs": [],
   "source": [
    "class Problem(object):\n",
    "   def __init__(self, initial=None, goal=None, **kwds): \n",
    "       self.__dict__.update(initial=initial, goal=goal, **kwds) \n",
    "       \n",
    "   def actions(self, state):        \n",
    "       raise NotImplementedError\n",
    "   def result(self, state, action): \n",
    "       raise NotImplementedError\n",
    "   def is_goal(self, state):        \n",
    "       return state == self.goal\n",
    "   def action_cost(self, s, a, s1): \n",
    "       return 1\n",
    "   \n",
    "   def __str__(self):\n",
    "       return '{0}({1}, {2})'.format(\n",
    "           type(self).__name__, self.initial, self.goal)"
   ]
  },
  {
   "cell_type": "markdown",
   "metadata": {},
   "source": [
    "# Nodes"
   ]
  },
  {
   "cell_type": "markdown",
   "metadata": {
    "tags": []
   },
   "source": [
    "#### This is the Node in the search tree. Helper functions (expand, path_actions, path_states) use this Node class."
   ]
  },
  {
   "cell_type": "code",
   "execution_count": 7,
   "metadata": {},
   "outputs": [],
   "source": [
    "class Node:\n",
    "   def __init__(self, state, parent=None, action=None, path_cost=0):\n",
    "       self.__dict__.update(state=state, parent=parent, action=action, path_cost=path_cost)\n",
    "\n",
    "   def __str__(self): \n",
    "       return '<{0}>'.format(self.state)\n",
    "   def __len__(self): \n",
    "       return 0 if self.parent is None else (1 + len(self.parent))\n",
    "   def __lt__(self, other): \n",
    "       return self.path_cost < other.path_cost"
   ]
  },
  {
   "cell_type": "code",
   "execution_count": 8,
   "metadata": {},
   "outputs": [],
   "source": [
    "failure = Node('failure', path_cost=math.inf) \n",
    "cutoff  = Node('cutoff',  path_cost=math.inf)"
   ]
  },
  {
   "cell_type": "markdown",
   "metadata": {},
   "source": [
    "# Helper functions"
   ]
  },
  {
   "cell_type": "code",
   "execution_count": 9,
   "metadata": {},
   "outputs": [],
   "source": [
    "def expand(problem, node):\n",
    "   \"Expand a node, generating the children nodes.\"\n",
    "   s = node.state\n",
    "   for action in problem.actions(s):\n",
    "       s1 = problem.result(s, action)\n",
    "       cost = node.path_cost + problem.action_cost(s, action, s1)\n",
    "       yield Node(s1, node, action, cost)\n",
    "       \n",
    "\n",
    "def path_actions(node):\n",
    "   \"The sequence of actions to get to this node.\"\n",
    "   if node.parent is None:\n",
    "       return []  \n",
    "   return path_actions(node.parent) + [node.action]\n",
    "\n",
    "\n",
    "def path_states(node):\n",
    "   \"The sequence of states to get to this node.\"\n",
    "   if node in (cutoff, failure, None): \n",
    "       return []\n",
    "   return path_states(node.parent) + [node.state]"
   ]
  },
  {
   "cell_type": "code",
   "execution_count": 10,
   "metadata": {},
   "outputs": [],
   "source": [
    "FIFOQueue = deque"
   ]
  },
  {
   "cell_type": "markdown",
   "metadata": {},
   "source": [
    "# Search Algorithm :  Breadth First Search"
   ]
  },
  {
   "cell_type": "code",
   "execution_count": 11,
   "metadata": {},
   "outputs": [],
   "source": [
    "def breadth_first_search(problem):\n",
    "   \"Search shallowest nodes in the search tree first.\"\n",
    "   node = Node(problem.initial)\n",
    "   if problem.is_goal(problem.initial):\n",
    "       return node\n",
    "   frontier = FIFOQueue([node])\n",
    "   reached = {problem.initial}\n",
    "   while frontier:\n",
    "       node = frontier.pop()\n",
    "       for child in expand(problem, node):\n",
    "           s = child.state\n",
    "           if problem.is_goal(s):\n",
    "               return child\n",
    "           if s not in reached:\n",
    "               reached.add(s)\n",
    "               frontier.appendleft(child)\n",
    "   return failure"
   ]
  },
  {
   "cell_type": "markdown",
   "metadata": {},
   "source": [
    "# Route Finding Problems"
   ]
  },
  {
   "cell_type": "code",
   "execution_count": 12,
   "metadata": {},
   "outputs": [],
   "source": [
    "class RouteProblem(Problem):\n",
    "   \"\"\"A problem to find a route between locations on a `Map`.\n",
    "   Create a problem with RouteProblem(start, goal, map=Map(...)}).\n",
    "   States are the vertexes in the Map graph; actions are destination states.\"\"\"\n",
    "   \n",
    "   def actions(self, state): \n",
    "       \"\"\"The places neighboring `state`.\"\"\"\n",
    "       return self.map.neighbors[state]\n",
    "   \n",
    "   def result(self, state, action):\n",
    "       \"\"\"Go to the `action` place, if the map says that is possible.\"\"\"\n",
    "       return action if action in self.map.neighbors[state] else state\n",
    "   \n",
    "   def action_cost(self, s, action, s1):\n",
    "       \"\"\"The distance (cost) to go from s to s1.\"\"\"\n",
    "       return self.map.distances[s, s1]\n",
    "   \n",
    "   def h(self, node):\n",
    "       \"Straight-line distance between state and the goal.\"\n",
    "       locs = self.map.locations\n",
    "       return straight_line_distance(locs[node.state], locs[self.goal])\n",
    "       "
   ]
  },
  {
   "cell_type": "code",
   "execution_count": 13,
   "metadata": {},
   "outputs": [],
   "source": [
    "class Map:\n",
    "   \"\"\"A map of places in a 2D world: a graph with vertexes and links between them. \n",
    "   In `Map(links, locations)`, `links` can be either [(v1, v2)...] pairs, \n",
    "   or a {(v1, v2): distance...} dict. Optional `locations` can be {v1: (x, y)} \n",
    "   If `directed=False` then for every (v1, v2) link, we add a (v2, v1) link.\"\"\"\n",
    "\n",
    "   def __init__(self, links, locations=None, directed=False):\n",
    "       if not hasattr(links, 'items'): # Distances are 1 by default\n",
    "           links = {link: 1 for link in links}\n",
    "       if not directed:\n",
    "           for (v1, v2) in list(links):\n",
    "               links[v2, v1] = links[v1, v2]\n",
    "       self.distances = links\n",
    "       self.neighbors = multimap(links)\n",
    "       self.locations = locations or defaultdict(lambda: (0, 0))\n",
    "\n",
    "       \n",
    "def multimap(pairs) -> dict:\n",
    "   \"Given (key, val) pairs, make a dict of {key: [val,...]}.\"\n",
    "   result = defaultdict(list)\n",
    "   for key, val in pairs:\n",
    "       result[key].append(val)\n",
    "   return result\n",
    "   "
   ]
  },
  {
   "cell_type": "code",
   "execution_count": 14,
   "metadata": {},
   "outputs": [],
   "source": [
    "nearby_locations = Map(\n",
    "    {('Sholinghur', 'Jyotipuram'):  10, ('Jyotipuram', 'Salai'): 6, ('Salai', 'Itchiputhur'): 12, ('Salai', 'Arakkonam'): 12, ('Salai', 'Patittur'): 8, \n",
    "     ('Itchiputhur', 'Thirutani'): 10, ('Thirutani', 'Sathuranjayapuram'):  11, ('Sathuranjayapuram', 'Kanakammachathram'): 12, ('Kanakammachathram', 'Poondi'): 20, \n",
    "     ('Kanakammachathram', 'Thiruvalangadu'): 16, ('Thiruvalangadu', 'Arakkonam'): 21, ('Thiruvalangadu', 'Tiruvallur'):  28, ('Arakkonam', 'Manavur'): 25, \n",
    "     ('Manavur', 'Tiruvallur'): 15, ('Manavur', 'Polivakkam'): 18, ('Tiruvallur', 'Veppambattu'): 13, ('Veppambattu', 'Avadi'): 12, ('Avadi', 'Ambattur'): 10, \n",
    "     ('Polivakkam', 'Perumalpattu'): 20, ('Perumalpattu', 'Avadi'): 18, ('Tiruvallur', 'Veppambattu'): 13, ('Salai', 'Arakkonam'): 12 , ('Arakkonam','Thiruvalangadu'): 21 , \n",
    "     ('Arakkonam', 'Manavur'): 25, ('Salai', 'Patittur'): 8, ('Patittur','Thakkolam'): 9, ('Thakkolam', 'Perambakkam'): 12, ('Perambakkam', 'Polivakkam'): 16, ('Perambakkam', 'Kuthambakkam'): 18, ('Kuthambakkam', 'Poonamallee'): 13, ('Poonamallee','Amabattur'): 16,})\n",
    "\n",
    "\n",
    "r0 = RouteProblem('Sholinghur', 'Poondi', map=nearby_locations)\n",
    "r1 = RouteProblem('Sholinghur', 'Ambattur', map=nearby_locations)\n",
    "r2 = RouteProblem('Arakkonam', 'Poonamallee', map=nearby_locations)\n",
    "r3 = RouteProblem('Manavur', 'Poonamallee', map=nearby_locations)\n",
    "r4 = RouteProblem('Thiruvalangadu', 'Ambattur', map=nearby_locations)"
   ]
  },
  {
   "cell_type": "code",
   "execution_count": 18,
   "metadata": {},
   "outputs": [],
   "source": [
    "goal_state_path=breadth_first_search(r1)"
   ]
  },
  {
   "cell_type": "code",
   "execution_count": 19,
   "metadata": {},
   "outputs": [
    {
     "name": "stdout",
     "output_type": "stream",
     "text": [
      "GoalStateWithPath:<Ambattur>\n"
     ]
    }
   ],
   "source": [
    "print(\"GoalStateWithPath:{0}\".format(goal_state_path))"
   ]
  },
  {
   "cell_type": "code",
   "execution_count": 20,
   "metadata": {},
   "outputs": [
    {
     "data": {
      "text/plain": [
       "['Sholinghur',\n",
       " 'Jyotipuram',\n",
       " 'Salai',\n",
       " 'Arakkonam',\n",
       " 'Manavur',\n",
       " 'Tiruvallur',\n",
       " 'Veppambattu',\n",
       " 'Avadi',\n",
       " 'Ambattur']"
      ]
     },
     "execution_count": 20,
     "metadata": {},
     "output_type": "execute_result"
    }
   ],
   "source": [
    "path_states(goal_state_path) "
   ]
  },
  {
   "cell_type": "code",
   "execution_count": 22,
   "metadata": {},
   "outputs": [
    {
     "name": "stdout",
     "output_type": "stream",
     "text": [
      "Total Distance=103 Kilometers\n"
     ]
    }
   ],
   "source": [
    "print(\"Total Distance={0} Kilometers\".format(goal_state_path.path_cost))"
   ]
  },
  {
   "cell_type": "code",
   "execution_count": null,
   "metadata": {},
   "outputs": [],
   "source": []
  }
 ],
 "metadata": {
  "kernelspec": {
   "display_name": "Python 3",
   "language": "python",
   "name": "python3"
  },
  "language_info": {
   "codemirror_mode": {
    "name": "ipython",
    "version": 3
   },
   "file_extension": ".py",
   "mimetype": "text/x-python",
   "name": "python",
   "nbconvert_exporter": "python",
   "pygments_lexer": "ipython3",
   "version": "3.8.5"
  }
 },
 "nbformat": 4,
 "nbformat_minor": 5
}
